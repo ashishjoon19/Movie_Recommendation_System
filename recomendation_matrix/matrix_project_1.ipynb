{
 "cells": [
  {
   "cell_type": "code",
   "execution_count": 17,
   "id": "6cbb2415-c464-45ea-8ffe-d24a66fd75ef",
   "metadata": {},
   "outputs": [],
   "source": [
    "import pandas as pd\n",
    "from sklearn.model_selection import train_test_split\n",
    "import numpy as np\n",
    "from scipy.sparse.linalg import svds\n",
    "\n",
    "# Load datasets\n",
    "ratings = pd.read_csv('data/rating.csv')\n",
    "movies = pd.read_csv('data/movie.csv')"
   ]
  },
  {
   "cell_type": "code",
   "execution_count": 19,
   "id": "4a7b6964-0c1e-4701-b1b5-6526b77744cc",
   "metadata": {},
   "outputs": [],
   "source": [
    "# Merge movies and ratings\n",
    "data = pd.merge(ratings, movies, on='movieId')"
   ]
  },
  {
   "cell_type": "code",
   "execution_count": 26,
   "id": "38a740d5-a9bb-4f0f-a127-1441ee9bf135",
   "metadata": {},
   "outputs": [],
   "source": [
    "from scipy.sparse import csr_matrix\n",
    "\n",
    "# Create a sparse matrix for the user-movie interaction data\n",
    "user_movie_sparse = csr_matrix((data['rating'], (data['userId'], data['movieId'])))\n"
   ]
  },
  {
   "cell_type": "code",
   "execution_count": 28,
   "id": "18da1733-45d3-4ee0-9390-99452bb6b2a3",
   "metadata": {},
   "outputs": [],
   "source": [
    "# Filter by active users and popular movies\n",
    "min_user_ratings = 50\n",
    "min_movie_ratings = 50\n",
    "\n",
    "filtered_users = data['userId'].value_counts()[data['userId'].value_counts() >= min_user_ratings].index\n",
    "filtered_movies = data['movieId'].value_counts()[data['movieId'].value_counts() >= min_movie_ratings].index\n",
    "\n",
    "filtered_data = data[data['userId'].isin(filtered_users) & data['movieId'].isin(filtered_movies)]\n",
    "\n",
    "# Create a pivot table or sparse matrix\n",
    "user_movie_sparse = csr_matrix((filtered_data['rating'], (filtered_data['userId'], filtered_data['movieId'])))\n"
   ]
  },
  {
   "cell_type": "code",
   "execution_count": 30,
   "id": "0913e474-b9a7-48aa-a872-6d54d082852f",
   "metadata": {},
   "outputs": [
    {
     "ename": "MemoryError",
     "evalue": "Unable to allocate 130. GiB for an array with shape (138494, 125917) and data type float64",
     "output_type": "error",
     "traceback": [
      "\u001b[1;31m---------------------------------------------------------------------------\u001b[0m",
      "\u001b[1;31mMemoryError\u001b[0m                               Traceback (most recent call last)",
      "Cell \u001b[1;32mIn[30], line 10\u001b[0m\n\u001b[0;32m      7\u001b[0m Vt \u001b[38;5;241m=\u001b[39m svd\u001b[38;5;241m.\u001b[39mcomponents_\n\u001b[0;32m      9\u001b[0m \u001b[38;5;66;03m# Reconstruct the approximate user-movie matrix\u001b[39;00m\n\u001b[1;32m---> 10\u001b[0m predicted_ratings \u001b[38;5;241m=\u001b[39m np\u001b[38;5;241m.\u001b[39mdot(np\u001b[38;5;241m.\u001b[39mdot(U, np\u001b[38;5;241m.\u001b[39mdiag(sigma)), Vt)\n\u001b[0;32m     12\u001b[0m \u001b[38;5;66;03m# Convert to DataFrame for easier handling\u001b[39;00m\n\u001b[0;32m     13\u001b[0m predicted_ratings_df \u001b[38;5;241m=\u001b[39m pd\u001b[38;5;241m.\u001b[39mDataFrame(predicted_ratings, index\u001b[38;5;241m=\u001b[39mfiltered_users, columns\u001b[38;5;241m=\u001b[39mfiltered_movies)\n",
      "\u001b[1;31mMemoryError\u001b[0m: Unable to allocate 130. GiB for an array with shape (138494, 125917) and data type float64"
     ]
    }
   ],
   "source": [
    "from sklearn.decomposition import TruncatedSVD\n",
    "\n",
    "# Apply Truncated SVD on the sparse matrix\n",
    "svd = TruncatedSVD(n_components=50, random_state=42)\n",
    "U = svd.fit_transform(user_movie_sparse)\n",
    "sigma = svd.singular_values_\n",
    "Vt = svd.components_\n",
    "\n",
    "# Reconstruct the approximate user-movie matrix\n",
    "predicted_ratings = np.dot(np.dot(U, np.diag(sigma)), Vt)\n",
    "\n",
    "# Convert to DataFrame for easier handling\n",
    "predicted_ratings_df = pd.DataFrame(predicted_ratings, index=filtered_users, columns=filtered_movies)\n"
   ]
  },
  {
   "cell_type": "code",
   "execution_count": null,
   "id": "8495a9bd-fc4b-4f86-909e-df3522695b6f",
   "metadata": {},
   "outputs": [],
   "source": []
  }
 ],
 "metadata": {
  "kernelspec": {
   "display_name": "Python 3 (ipykernel)",
   "language": "python",
   "name": "python3"
  },
  "language_info": {
   "codemirror_mode": {
    "name": "ipython",
    "version": 3
   },
   "file_extension": ".py",
   "mimetype": "text/x-python",
   "name": "python",
   "nbconvert_exporter": "python",
   "pygments_lexer": "ipython3",
   "version": "3.11.7"
  }
 },
 "nbformat": 4,
 "nbformat_minor": 5
}
